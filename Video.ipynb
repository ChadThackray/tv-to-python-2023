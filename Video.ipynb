{
 "cells": [
  {
   "cell_type": "code",
   "execution_count": 1,
   "id": "352f47c8",
   "metadata": {},
   "outputs": [],
   "source": [
    "import pandas as pd\n",
    "import numpy as np\n",
    "from numba import njit"
   ]
  },
  {
   "cell_type": "code",
   "execution_count": 6,
   "id": "dab61392",
   "metadata": {},
   "outputs": [
    {
     "data": {
      "text/html": [
       "<div>\n",
       "<style scoped>\n",
       "    .dataframe tbody tr th:only-of-type {\n",
       "        vertical-align: middle;\n",
       "    }\n",
       "\n",
       "    .dataframe tbody tr th {\n",
       "        vertical-align: top;\n",
       "    }\n",
       "\n",
       "    .dataframe thead th {\n",
       "        text-align: right;\n",
       "    }\n",
       "</style>\n",
       "<table border=\"1\" class=\"dataframe\">\n",
       "  <thead>\n",
       "    <tr style=\"text-align: right;\">\n",
       "      <th></th>\n",
       "      <th>symbol</th>\n",
       "      <th>open</th>\n",
       "      <th>high</th>\n",
       "      <th>low</th>\n",
       "      <th>close</th>\n",
       "      <th>volume</th>\n",
       "    </tr>\n",
       "    <tr>\n",
       "      <th>datetime</th>\n",
       "      <th></th>\n",
       "      <th></th>\n",
       "      <th></th>\n",
       "      <th></th>\n",
       "      <th></th>\n",
       "      <th></th>\n",
       "    </tr>\n",
       "  </thead>\n",
       "  <tbody>\n",
       "    <tr>\n",
       "      <th>2017-12-19 14:30:00</th>\n",
       "      <td>NASDAQ:MSFT</td>\n",
       "      <td>86.35</td>\n",
       "      <td>86.3500</td>\n",
       "      <td>85.27</td>\n",
       "      <td>85.83</td>\n",
       "      <td>23524787.0</td>\n",
       "    </tr>\n",
       "    <tr>\n",
       "      <th>2017-12-20 14:30:00</th>\n",
       "      <td>NASDAQ:MSFT</td>\n",
       "      <td>86.20</td>\n",
       "      <td>86.3000</td>\n",
       "      <td>84.71</td>\n",
       "      <td>85.52</td>\n",
       "      <td>23674931.0</td>\n",
       "    </tr>\n",
       "    <tr>\n",
       "      <th>2017-12-21 14:30:00</th>\n",
       "      <td>NASDAQ:MSFT</td>\n",
       "      <td>86.05</td>\n",
       "      <td>86.1000</td>\n",
       "      <td>85.40</td>\n",
       "      <td>85.50</td>\n",
       "      <td>17990745.0</td>\n",
       "    </tr>\n",
       "    <tr>\n",
       "      <th>2017-12-22 14:30:00</th>\n",
       "      <td>NASDAQ:MSFT</td>\n",
       "      <td>85.40</td>\n",
       "      <td>85.6300</td>\n",
       "      <td>84.92</td>\n",
       "      <td>85.51</td>\n",
       "      <td>14145841.0</td>\n",
       "    </tr>\n",
       "    <tr>\n",
       "      <th>2017-12-26 14:30:00</th>\n",
       "      <td>NASDAQ:MSFT</td>\n",
       "      <td>85.31</td>\n",
       "      <td>85.5346</td>\n",
       "      <td>85.03</td>\n",
       "      <td>85.40</td>\n",
       "      <td>9891237.0</td>\n",
       "    </tr>\n",
       "    <tr>\n",
       "      <th>...</th>\n",
       "      <td>...</td>\n",
       "      <td>...</td>\n",
       "      <td>...</td>\n",
       "      <td>...</td>\n",
       "      <td>...</td>\n",
       "      <td>...</td>\n",
       "    </tr>\n",
       "    <tr>\n",
       "      <th>2023-02-13 14:30:00</th>\n",
       "      <td>NASDAQ:MSFT</td>\n",
       "      <td>267.64</td>\n",
       "      <td>274.6000</td>\n",
       "      <td>267.15</td>\n",
       "      <td>271.32</td>\n",
       "      <td>44630921.0</td>\n",
       "    </tr>\n",
       "    <tr>\n",
       "      <th>2023-02-14 14:30:00</th>\n",
       "      <td>NASDAQ:MSFT</td>\n",
       "      <td>272.67</td>\n",
       "      <td>274.9700</td>\n",
       "      <td>269.28</td>\n",
       "      <td>272.17</td>\n",
       "      <td>37047924.0</td>\n",
       "    </tr>\n",
       "    <tr>\n",
       "      <th>2023-02-15 14:30:00</th>\n",
       "      <td>NASDAQ:MSFT</td>\n",
       "      <td>268.32</td>\n",
       "      <td>270.7300</td>\n",
       "      <td>266.18</td>\n",
       "      <td>269.32</td>\n",
       "      <td>28962163.0</td>\n",
       "    </tr>\n",
       "    <tr>\n",
       "      <th>2023-02-16 14:30:00</th>\n",
       "      <td>NASDAQ:MSFT</td>\n",
       "      <td>264.02</td>\n",
       "      <td>266.7400</td>\n",
       "      <td>261.90</td>\n",
       "      <td>262.15</td>\n",
       "      <td>29603616.0</td>\n",
       "    </tr>\n",
       "    <tr>\n",
       "      <th>2023-02-17 14:30:00</th>\n",
       "      <td>NASDAQ:MSFT</td>\n",
       "      <td>259.39</td>\n",
       "      <td>260.0900</td>\n",
       "      <td>256.00</td>\n",
       "      <td>258.06</td>\n",
       "      <td>30000055.0</td>\n",
       "    </tr>\n",
       "  </tbody>\n",
       "</table>\n",
       "<p>1300 rows × 6 columns</p>\n",
       "</div>"
      ],
      "text/plain": [
       "                          symbol    open      high     low   close      volume\n",
       "datetime                                                                      \n",
       "2017-12-19 14:30:00  NASDAQ:MSFT   86.35   86.3500   85.27   85.83  23524787.0\n",
       "2017-12-20 14:30:00  NASDAQ:MSFT   86.20   86.3000   84.71   85.52  23674931.0\n",
       "2017-12-21 14:30:00  NASDAQ:MSFT   86.05   86.1000   85.40   85.50  17990745.0\n",
       "2017-12-22 14:30:00  NASDAQ:MSFT   85.40   85.6300   84.92   85.51  14145841.0\n",
       "2017-12-26 14:30:00  NASDAQ:MSFT   85.31   85.5346   85.03   85.40   9891237.0\n",
       "...                          ...     ...       ...     ...     ...         ...\n",
       "2023-02-13 14:30:00  NASDAQ:MSFT  267.64  274.6000  267.15  271.32  44630921.0\n",
       "2023-02-14 14:30:00  NASDAQ:MSFT  272.67  274.9700  269.28  272.17  37047924.0\n",
       "2023-02-15 14:30:00  NASDAQ:MSFT  268.32  270.7300  266.18  269.32  28962163.0\n",
       "2023-02-16 14:30:00  NASDAQ:MSFT  264.02  266.7400  261.90  262.15  29603616.0\n",
       "2023-02-17 14:30:00  NASDAQ:MSFT  259.39  260.0900  256.00  258.06  30000055.0\n",
       "\n",
       "[1300 rows x 6 columns]"
      ]
     },
     "execution_count": 6,
     "metadata": {},
     "output_type": "execute_result"
    }
   ],
   "source": [
    "# Data scraped from TV using tvdatafeed\n",
    "data = pd.read_csv(\"msft.csv\")\n",
    "data[\"datetime\"] = pd.to_datetime(data[\"datetime\"])\n",
    "data.set_index(\"datetime\", inplace=True)\n",
    "data"
   ]
  },
  {
   "cell_type": "code",
   "execution_count": 11,
   "id": "935cda4e",
   "metadata": {},
   "outputs": [],
   "source": [
    "\n",
    "@njit\n",
    "def pine_ema(src, length):\n",
    "    \n",
    "    ind = np.empty(shape=src.shape, dtype=float)\n",
    "    alpha = 2 / (length + 1)\n",
    "    \n",
    "    for i in range(len(src)):\n",
    "        \n",
    "        if i == 0 or np.isnan(src[i]) or (i > 0 and np.isnan(ind[i-1])):\n",
    "            ind[i] = src[i]\n",
    "            continue\n",
    "            \n",
    "        ind[i] = (alpha * src[i]) + (1 - alpha) * ind[i-1]\n",
    "        \n",
    "    ind[:length -1] = np.nan\n",
    "    \n",
    "    return ind\n",
    "    "
   ]
  },
  {
   "cell_type": "code",
   "execution_count": 22,
   "id": "9ec63077",
   "metadata": {},
   "outputs": [
    {
     "data": {
      "text/plain": [
       "array([         nan,          nan,          nan, ..., 250.02299601,\n",
       "       251.33535166, 252.46597784])"
      ]
     },
     "execution_count": 22,
     "metadata": {},
     "output_type": "execute_result"
    }
   ],
   "source": [
    "\n",
    "pine_ema(pine_ema(data.open.to_numpy(), 15), 15)"
   ]
  },
  {
   "cell_type": "code",
   "execution_count": 14,
   "id": "717a3ca1",
   "metadata": {},
   "outputs": [],
   "source": [
    "data[\"ema\"] = pine_ema(data.open.to_numpy(), 15)"
   ]
  },
  {
   "cell_type": "code",
   "execution_count": 16,
   "id": "00cd525d",
   "metadata": {},
   "outputs": [
    {
     "data": {
      "text/plain": [
       "datetime\n",
       "2017-12-19 14:30:00     86.35\n",
       "2017-12-20 14:30:00     86.20\n",
       "2017-12-21 14:30:00     86.05\n",
       "2017-12-22 14:30:00     85.40\n",
       "2017-12-26 14:30:00     85.31\n",
       "                        ...  \n",
       "2023-02-13 14:30:00    267.64\n",
       "2023-02-14 14:30:00    272.67\n",
       "2023-02-15 14:30:00    268.32\n",
       "2023-02-16 14:30:00    264.02\n",
       "2023-02-17 14:30:00    259.39\n",
       "Name: open, Length: 1300, dtype: float64"
      ]
     },
     "execution_count": 16,
     "metadata": {},
     "output_type": "execute_result"
    }
   ],
   "source": [
    "x = data.open.copy()\n",
    "x"
   ]
  },
  {
   "cell_type": "code",
   "execution_count": 17,
   "id": "7dbc7a8b",
   "metadata": {},
   "outputs": [
    {
     "data": {
      "text/plain": [
       "datetime\n",
       "2017-12-19 14:30:00           NaN\n",
       "2017-12-20 14:30:00           NaN\n",
       "2017-12-21 14:30:00           NaN\n",
       "2017-12-22 14:30:00           NaN\n",
       "2017-12-26 14:30:00           NaN\n",
       "                          ...    \n",
       "2023-02-13 14:30:00    256.860504\n",
       "2023-02-14 14:30:00    258.836691\n",
       "2023-02-15 14:30:00    260.022104\n",
       "2023-02-16 14:30:00    260.521841\n",
       "2023-02-17 14:30:00    260.380361\n",
       "Name: open, Length: 1300, dtype: float64"
      ]
     },
     "execution_count": 17,
     "metadata": {},
     "output_type": "execute_result"
    }
   ],
   "source": [
    "x.iloc[:] = pine_ema(data.open.to_numpy(), 15)\n",
    "x"
   ]
  },
  {
   "cell_type": "code",
   "execution_count": 21,
   "id": "75f9ebce",
   "metadata": {},
   "outputs": [
    {
     "name": "stdout",
     "output_type": "stream",
     "text": [
      "48.2 µs ± 557 ns per loop (mean ± std. dev. of 7 runs, 10,000 loops each)\n"
     ]
    }
   ],
   "source": [
    "%%timeit\n",
    "pd.Series(pine_ema(data.open.to_numpy(), 15), index=data.index)"
   ]
  },
  {
   "cell_type": "code",
   "execution_count": 19,
   "id": "1c92af46",
   "metadata": {},
   "outputs": [],
   "source": [
    "import pandas_ta as ta"
   ]
  },
  {
   "cell_type": "code",
   "execution_count": 20,
   "id": "4736b3b2",
   "metadata": {},
   "outputs": [
    {
     "name": "stdout",
     "output_type": "stream",
     "text": [
      "459 µs ± 32.4 µs per loop (mean ± std. dev. of 7 runs, 1,000 loops each)\n"
     ]
    }
   ],
   "source": [
    "%%timeit\n",
    "ta.ema(data.open, 15)"
   ]
  },
  {
   "cell_type": "code",
   "execution_count": null,
   "id": "a30da797",
   "metadata": {},
   "outputs": [],
   "source": []
  }
 ],
 "metadata": {
  "kernelspec": {
   "display_name": "Python 3 (ipykernel)",
   "language": "python",
   "name": "python3"
  },
  "language_info": {
   "codemirror_mode": {
    "name": "ipython",
    "version": 3
   },
   "file_extension": ".py",
   "mimetype": "text/x-python",
   "name": "python",
   "nbconvert_exporter": "python",
   "pygments_lexer": "ipython3",
   "version": "3.10.9"
  }
 },
 "nbformat": 4,
 "nbformat_minor": 5
}
